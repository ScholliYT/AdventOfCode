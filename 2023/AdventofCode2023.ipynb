{
 "cells": [
  {
   "cell_type": "code",
   "execution_count": 9,
   "metadata": {},
   "outputs": [],
   "source": [
    "import os\n",
    "from typing import Tuple, List, Union"
   ]
  },
  {
   "cell_type": "markdown",
   "metadata": {},
   "source": [
    "# Day 1"
   ]
  },
  {
   "cell_type": "code",
   "execution_count": 25,
   "metadata": {},
   "outputs": [
    {
     "name": "stdout",
     "output_type": "stream",
     "text": [
      "Total sum is 55834\n"
     ]
    }
   ],
   "source": [
    "\n",
    "def first_digit_char(s: str) -> Tuple[int, int]:\n",
    "    for i, c in enumerate(s):\n",
    "        if c.isdigit():\n",
    "            return i,int(c)\n",
    "    raise Exception(f\"No digit found in {s}\")\n",
    "\n",
    "def solve(lines) -> int:\n",
    "    total_sum = 0\n",
    "    for line in lines:\n",
    "        number = int(f\"{first_digit_char(line)[1]}{first_digit_char(reversed(line))[1]}\")\n",
    "        total_sum += number\n",
    "    return total_sum\n",
    "\n",
    "with open(\"input_day_1\") as f:\n",
    "    total_sum = solve(f)\n",
    "        \n",
    "print(\"Total sum is\", total_sum)"
   ]
  },
  {
   "cell_type": "markdown",
   "metadata": {},
   "source": [
    "## Part 2"
   ]
  },
  {
   "cell_type": "code",
   "execution_count": 27,
   "metadata": {},
   "outputs": [
    {
     "name": "stdout",
     "output_type": "stream",
     "text": [
      "Total Sum 53221\n"
     ]
    }
   ],
   "source": [
    "digits = (\"one\", \"two\", \"three\", \"four\", \"five\", \"six\", \"seven\", \"eight\", \"nine\")\n",
    "\n",
    "def first_digit_word(s: str, digits: List[str]) -> Tuple[int,int]:\n",
    "    min_pair = (len(s), None)\n",
    "    for i,d in enumerate(digits):\n",
    "        idx = s.find(d)\n",
    "        if idx != -1 and idx < min_pair[0]:\n",
    "            min_pair = (idx, i+1)\n",
    "    return min_pair\n",
    "\n",
    "\n",
    "def solve(lines) -> int:\n",
    "    total_sum = 0\n",
    "    for line in lines:\n",
    "        _, d1 = min(first_digit_char(line),first_digit_word(line, digits), key=lambda t: t[0])\n",
    "\n",
    "        line_reversed = line[::-1]\n",
    "        digits_reversed = [d[::-1] for d in digits]\n",
    "        _, d2 = min(first_digit_char(line_reversed),first_digit_word(line_reversed, digits_reversed), key=lambda t: t[0])\n",
    "\n",
    "        number = int(f\"{d1}{d2}\")\n",
    "        total_sum += number\n",
    "    return total_sum\n",
    "\n",
    "with open(\"input_day_1\") as f:\n",
    "    total_sum = solve(f)\n",
    "\n",
    "print(\"Total Sum\", total_sum)"
   ]
  }
 ],
 "metadata": {
  "kernelspec": {
   "display_name": ".venv",
   "language": "python",
   "name": "python3"
  },
  "language_info": {
   "codemirror_mode": {
    "name": "ipython",
    "version": 3
   },
   "file_extension": ".py",
   "mimetype": "text/x-python",
   "name": "python",
   "nbconvert_exporter": "python",
   "pygments_lexer": "ipython3",
   "version": "3.11.6"
  }
 },
 "nbformat": 4,
 "nbformat_minor": 2
}
