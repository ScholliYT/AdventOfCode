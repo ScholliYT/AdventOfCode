{
 "cells": [
  {
   "cell_type": "code",
   "execution_count": 15,
   "metadata": {},
   "outputs": [],
   "source": [
    "import os\n",
    "from typing import Tuple, List, Union\n",
    "from collections import defaultdict\n"
   ]
  },
  {
   "cell_type": "markdown",
   "metadata": {},
   "source": [
    "# Day 1"
   ]
  },
  {
   "cell_type": "code",
   "execution_count": 25,
   "metadata": {},
   "outputs": [
    {
     "name": "stdout",
     "output_type": "stream",
     "text": [
      "Total sum is 55834\n"
     ]
    }
   ],
   "source": [
    "\n",
    "def first_digit_char(s: str) -> Tuple[int, int]:\n",
    "    for i, c in enumerate(s):\n",
    "        if c.isdigit():\n",
    "            return i,int(c)\n",
    "    raise Exception(f\"No digit found in {s}\")\n",
    "\n",
    "def solve(lines) -> int:\n",
    "    total_sum = 0\n",
    "    for line in lines:\n",
    "        number = int(f\"{first_digit_char(line)[1]}{first_digit_char(reversed(line))[1]}\")\n",
    "        total_sum += number\n",
    "    return total_sum\n",
    "\n",
    "with open(\"input_day_1\") as f:\n",
    "    total_sum = solve(f)\n",
    "        \n",
    "print(\"Total sum is\", total_sum)"
   ]
  },
  {
   "cell_type": "markdown",
   "metadata": {},
   "source": [
    "## Part 2"
   ]
  },
  {
   "cell_type": "code",
   "execution_count": 27,
   "metadata": {},
   "outputs": [
    {
     "name": "stdout",
     "output_type": "stream",
     "text": [
      "Total Sum 53221\n"
     ]
    }
   ],
   "source": [
    "digits = (\"one\", \"two\", \"three\", \"four\", \"five\", \"six\", \"seven\", \"eight\", \"nine\")\n",
    "\n",
    "def first_digit_word(s: str, digits: List[str]) -> Tuple[int,int]:\n",
    "    min_pair = (len(s), None)\n",
    "    for i,d in enumerate(digits):\n",
    "        idx = s.find(d)\n",
    "        if idx != -1 and idx < min_pair[0]:\n",
    "            min_pair = (idx, i+1)\n",
    "    return min_pair\n",
    "\n",
    "\n",
    "def solve(lines) -> int:\n",
    "    total_sum = 0\n",
    "    for line in lines:\n",
    "        _, d1 = min(first_digit_char(line),first_digit_word(line, digits), key=lambda t: t[0])\n",
    "\n",
    "        line_reversed = line[::-1]\n",
    "        digits_reversed = [d[::-1] for d in digits]\n",
    "        _, d2 = min(first_digit_char(line_reversed),first_digit_word(line_reversed, digits_reversed), key=lambda t: t[0])\n",
    "\n",
    "        number = int(f\"{d1}{d2}\")\n",
    "        total_sum += number\n",
    "    return total_sum\n",
    "\n",
    "with open(\"input_day_1\") as f:\n",
    "    total_sum = solve(f)\n",
    "\n",
    "print(\"Total Sum\", total_sum)"
   ]
  },
  {
   "cell_type": "markdown",
   "metadata": {},
   "source": [
    "# Day 2"
   ]
  },
  {
   "cell_type": "code",
   "execution_count": 30,
   "metadata": {},
   "outputs": [
    {
     "name": "stdout",
     "output_type": "stream",
     "text": [
      "Total sum of filtered Game IDs 2348\n"
     ]
    }
   ],
   "source": [
    "\n",
    "\n",
    "def game_string_to_dict(game_str: str) -> dict[str, int]:\n",
    "    game, sets = game_str.split(\": \")\n",
    "    game_id = int(game.split(\" \")[1])\n",
    "    sets = sets.split(\"; \")\n",
    "\n",
    "    game_stats = defaultdict(int)\n",
    "    game_stats[\"Game_ID\"] = game_id\n",
    "\n",
    "    for set_string in sets:\n",
    "        for color in set_string.split(\", \"):\n",
    "            v,k = color.split(\" \")\n",
    "            assert k in (\"red\", \"green\", \"blue\"), f\"not in colors '{k}'\"\n",
    "            game_stats[k] = max(int(v), game_stats[k])\n",
    "    return game_stats\n",
    "\n",
    "id_sum = 0\n",
    "with open(\"input_day_2\") as f:\n",
    "    for line in f:\n",
    "        line = line.rstrip(\"\\n\")\n",
    "        game = game_string_to_dict(line)\n",
    "        if game[\"red\"] <= 12 and game[\"green\"] <= 13 and game[\"blue\"] <= 14:\n",
    "            id_sum += game[\"Game_ID\"]\n",
    "print(\"Total sum of filtered Game IDs\", id_sum)    "
   ]
  },
  {
   "cell_type": "code",
   "execution_count": 33,
   "metadata": {},
   "outputs": [
    {
     "name": "stdout",
     "output_type": "stream",
     "text": [
      "Total sum of products of games 76008\n"
     ]
    }
   ],
   "source": [
    "from functools import reduce\n",
    "from operator import mul\n",
    "\n",
    "\n",
    "prod_sum = 0\n",
    "with open(\"input_day_2\") as f:\n",
    "    for line in f:\n",
    "        line = line.rstrip(\"\\n\")\n",
    "        game = game_string_to_dict(line)\n",
    "        cubes = [c for c in [game[\"red\"], game[\"blue\"], game[\"green\"]] if c > 0]\n",
    "        prod_sum += reduce(mul, cubes, 1)\n",
    "print(\"Total sum of products of games\", prod_sum)"
   ]
  }
 ],
 "metadata": {
  "kernelspec": {
   "display_name": ".venv",
   "language": "python",
   "name": "python3"
  },
  "language_info": {
   "codemirror_mode": {
    "name": "ipython",
    "version": 3
   },
   "file_extension": ".py",
   "mimetype": "text/x-python",
   "name": "python",
   "nbconvert_exporter": "python",
   "pygments_lexer": "ipython3",
   "version": "3.11.6"
  }
 },
 "nbformat": 4,
 "nbformat_minor": 2
}
